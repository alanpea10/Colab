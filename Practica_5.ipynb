{
  "nbformat": 4,
  "nbformat_minor": 0,
  "metadata": {
    "colab": {
      "provenance": [],
      "authorship_tag": "ABX9TyNI8ZHjg+eswv6/QY8s5tO7",
      "include_colab_link": true
    },
    "kernelspec": {
      "name": "python3",
      "display_name": "Python 3"
    },
    "language_info": {
      "name": "python"
    }
  },
  "cells": [
    {
      "cell_type": "markdown",
      "metadata": {
        "id": "view-in-github",
        "colab_type": "text"
      },
      "source": [
        "<a href=\"https://colab.research.google.com/github/alanpea10/Colab/blob/main/Practica_5.ipynb\" target=\"_parent\"><img src=\"https://colab.research.google.com/assets/colab-badge.svg\" alt=\"Open In Colab\"/></a>"
      ]
    },
    {
      "cell_type": "code",
      "execution_count": null,
      "metadata": {
        "colab": {
          "base_uri": "https://localhost:8080/"
        },
        "collapsed": true,
        "id": "ibecq9svUFKd",
        "outputId": "5f4b7b52-43d4-40ab-ba2c-1506910acef6"
      },
      "outputs": [
        {
          "output_type": "stream",
          "name": "stdout",
          "text": [
            "Escribe tu nombre: dasd[\n",
            "Nombre inválido. Debe contener solo letras y espacios.\n",
            "Escribe tu nombre: Monste\n",
            "Escribe tu email: asdasdds\n",
            "Email inválido. Debe tener el formato nombre@ejemplo.com\n",
            "Escribe tu email: asdas@saads.com\n",
            "*8 caracteres, mayuscula, minuscula, Caracter Especial\n",
            "Escribe tu password: daads\n",
            "Password inválida. Intenta de nuevo.\n",
            "*8 caracteres, mayuscula, minuscula, Caracter Especial\n"
          ]
        }
      ],
      "source": [
        "import re\n",
        "\n",
        "class form:\n",
        "    def __init__(self):\n",
        "        self.nombre = self.nombre_usuario()\n",
        "        self.email = self.email_usuario()\n",
        "        self.password = self.password_usuario()\n",
        "        self.edad = self.edad_usuario()\n",
        "        self.datos = self.mostrar_datos()\n",
        "\n",
        "\n",
        "    def edad_usuario(self):\n",
        "        pattern = r\"^(100|[1-9]?[0-9])$\"\n",
        "        while True:\n",
        "            edad=input(\"Escribe tu edad de 0-100: \")\n",
        "            if re.match(pattern, edad):\n",
        "                return int(edad)\n",
        "            else:\n",
        "                print(\"Edad inválida. Intenta de nuevo.\")\n",
        "\n",
        "    def nombre_usuario(self):\n",
        "        pattern = r\"^[A-Za-z]+(?: [A-Za-z]+)*$\"\n",
        "        while True:\n",
        "            nombre = input(\"Escribe tu nombre: \")\n",
        "            if re.match(pattern, nombre):\n",
        "                return nombre\n",
        "            else:\n",
        "                print(\"Nombre inválido. Debe contener solo letras y espacios.\")\n",
        "\n",
        "\n",
        "\n",
        "    def email_usuario(self):\n",
        "        pattern = r\"^[a-zA-Z0-9._%+-]+@[a-zA-Z0-9.-]+\\.[a-zA-Z]{2,}$\"\n",
        "        while True:\n",
        "            email = input(\"Escribe tu email: \")\n",
        "            if re.match(pattern, email):\n",
        "                return email\n",
        "            else:\n",
        "                print(\"Email inválido. Debe tener el formato nombre@ejemplo.com\")\n",
        "\n",
        "    def password_usuario(self):\n",
        "        pattern = r\"^(?=.*[a-z])(?=.*[A-Z])(?=.*[\\W]).{8,}$\"\n",
        "        while True:\n",
        "            print(\"*8 caracteres, mayuscula, minuscula, Caracter Especial\")\n",
        "            password = input(\"Escribe tu password: \")\n",
        "            if re.match(pattern, password):\n",
        "                return password\n",
        "            else:\n",
        "                print(\"Password inválida. Intenta de nuevo.\")\n",
        "\n",
        "    def mostrar_datos(self):\n",
        "        print(\"\\nTUS DATOS \\n\")\n",
        "        print(f\"Nombre: {self.nombre}\")\n",
        "        print(f\"Email: {self.email}\")\n",
        "        print(f\"Password: {self.password}\")\n",
        "        print(f\"Edad: {self.edad}\")\n",
        "\n",
        "formulario = form()\n"
      ]
    }
  ]
}